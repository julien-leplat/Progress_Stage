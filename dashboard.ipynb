{
 "cells": [
  {
   "cell_type": "code",
   "execution_count": 1,
   "metadata": {},
   "outputs": [],
   "source": [
    "from datetime import date , datetime\n",
    "from dateutil.relativedelta import relativedelta\n",
    "import random"
   ]
  },
  {
   "cell_type": "markdown",
   "metadata": {},
   "source": [
    "Paramètres à personnaliser"
   ]
  },
  {
   "cell_type": "code",
   "execution_count": 2,
   "metadata": {},
   "outputs": [],
   "source": [
    "horaire_debut=\"9:00\"\n",
    "horaire_fin=\"17:00\"\n",
    "heure_debut_repas=\"12:30\"\n",
    "heure_fin_repas=\"13:30\"\n",
    "taux_horaire=3.90\n",
    "nb_minute_inutile_j = 40 #nombre de minute inutile passé par jour (cause pause café longue, retard transport, pause caca passé à scroller)\n",
    "start_date = date(year = 2022, month =6, day=13) #Date de début de stage\n",
    "end_date = date(year=2022, month=9, day=30) #Date Fin de stage\n",
    "jour_paye = 31 #Jour de paiement du stage (si dernier jour du mois mettre 31)"
   ]
  },
  {
   "cell_type": "markdown",
   "metadata": {},
   "source": [
    "Définition des jours de congés"
   ]
  },
  {
   "cell_type": "code",
   "execution_count": 3,
   "metadata": {},
   "outputs": [],
   "source": [
    "liste_jour_conge=[date(2022, 7, 14),date(2022, 8, 15)]"
   ]
  },
  {
   "cell_type": "markdown",
   "metadata": {},
   "source": [
    "ProgressBar"
   ]
  },
  {
   "cell_type": "code",
   "execution_count": 4,
   "metadata": {},
   "outputs": [],
   "source": [
    "def progressbar(percentage, info=''):\n",
    "\n",
    "    if percentage > float(0.99):\n",
    "        percentage = 1.0\n",
    "    percent = 100 * percentage\n",
    "\n",
    "    if percent > 2:\n",
    "        percent /= 2\n",
    "\n",
    "    percent = int(percent) + 1\n",
    "    perstr = \"█\"\n",
    "    for _ in range(percent):\n",
    "        perstr += \"█\"\n",
    "    for _ in range(100-percent):\n",
    "        perstr+=\"-\"\n",
    "\n",
    "    print(info,\": {:.2f}% {}{:51.51}{} \".format(percentage*100, \"[\", perstr, \"]\"))"
   ]
  },
  {
   "cell_type": "markdown",
   "metadata": {},
   "source": [
    "Jour"
   ]
  },
  {
   "cell_type": "code",
   "execution_count": 5,
   "metadata": {},
   "outputs": [
    {
     "name": "stdout",
     "output_type": "stream",
     "text": [
      "Tu dois travailler 78 jours au total (sans j. fériés)\n"
     ]
    }
   ],
   "source": [
    "delta = end_date - start_date\n",
    "nb_jour_tot = delta.days+1-(delta.days//7)*2\n",
    "#print(\"Tu dois travailler {} jours au total\".format(nb_jour_tot))\n",
    "\n",
    "for jour_conge in liste_jour_conge :\n",
    "    if jour_conge>start_date:\n",
    "        if jour_conge<end_date:\n",
    "            nb_jour_tot-=1\n",
    "print(\"Tu dois travailler {} jours au total (sans j. fériés)\".format(nb_jour_tot))"
   ]
  },
  {
   "cell_type": "code",
   "execution_count": 6,
   "metadata": {},
   "outputs": [
    {
     "name": "stdout",
     "output_type": "stream",
     "text": [
      "Il te reste 64 jours à travailler (sans j. fériés)\n"
     ]
    }
   ],
   "source": [
    "today = date.today()\n",
    "delta = end_date - today\n",
    "nb_jour_restant = delta.days+1-(delta.days//7)*2\n",
    "#print(\"Il te reste {} jours à travailler\".format(nb_jour_restant))\n",
    "\n",
    "for jour_conge in liste_jour_conge :\n",
    "    if jour_conge>today:\n",
    "        if jour_conge<end_date:\n",
    "            nb_jour_restant-=1\n",
    "print(\"Il te reste {} jours à travailler (sans j. fériés)\".format(nb_jour_restant))"
   ]
  },
  {
   "cell_type": "markdown",
   "metadata": {},
   "source": [
    "Heure"
   ]
  },
  {
   "cell_type": "code",
   "execution_count": 7,
   "metadata": {},
   "outputs": [],
   "source": [
    "time_start = datetime.strptime(horaire_debut,\"%H:%M\")\n",
    "time_end = datetime.strptime(horaire_fin,\"%H:%M\")\n",
    "\n",
    "time_start_miam = datetime.strptime(heure_debut_repas,\"%H:%M\")\n",
    "time_fin_miam = datetime.strptime(heure_fin_repas,\"%H:%M\")\n",
    "\n",
    "time_interval = time_end - time_start\n",
    "time_now = str(datetime.now().hour)+\":\"+str(datetime.now().minute)\n",
    "time_now = datetime.strptime(time_now,\"%H:%M\")"
   ]
  },
  {
   "cell_type": "code",
   "execution_count": 8,
   "metadata": {},
   "outputs": [
    {
     "name": "stdout",
     "output_type": "stream",
     "text": [
      "Il te reste 66 minutes de boulot pour la journée, soit 1 heure(s) et 6 minutes\n",
      "Avancée Journée : 84.29% [████████████████████████████████████████████-------] \n"
     ]
    }
   ],
   "source": [
    "nb_minute_restant=nb_jour_restant*7*60\n",
    "nb_minute_restant_j=0\n",
    "if (time_end<time_now):\n",
    "    time_avant_fin_j =  time_now - time_end\n",
    "    hours = time_avant_fin_j.seconds//3600\n",
    "    minutes = time_avant_fin_j.seconds%60\n",
    "    print(\"Frérot rentre chez toi, t'as finis le boulot depuis {} heures et {} minutes.\\nT'es pas payé pour faire des heures sup.\".format(hours,minutes))\n",
    "\n",
    "elif (time_now<time_start_miam):\n",
    "    #avant le repas\n",
    "    time_avant_fin_j =  time_start_miam - time_now\n",
    "    minutes = (time_avant_fin_j.seconds)//60\n",
    "    nb_minute_restant_j=minutes\n",
    "    print(\"Plus que {} minutes avant la pause repas, Courage!\".format(minutes))\n",
    "    time_avant_fin_j =  time_end - time_fin_miam\n",
    "    minutes = (time_avant_fin_j.seconds)//60\n",
    "    nb_minute_restant_j+=minutes\n",
    "\n",
    "elif (time_now>time_fin_miam):\n",
    "    #après le repas\n",
    "    time_avant_fin_j =  time_end - time_now\n",
    "    minutes = (time_avant_fin_j.seconds)//60\n",
    "    nb_minute_restant_j=minutes\n",
    "\n",
    "else :\n",
    "    #pendant le repas\n",
    "    print(\"Va manger, j'ai faim\")\n",
    "    time_avant_fin_j =  time_end - time_fin_miam\n",
    "    minutes = (time_avant_fin_j.seconds)//60\n",
    "    nb_minute_restant_j=minutes\n",
    "\n",
    "print(\"Il te reste {} minutes de boulot pour la journée, soit {} heure(s) et {} minutes\".format(nb_minute_restant_j,nb_minute_restant_j//60,nb_minute_restant_j%60))\n",
    "progressbar(1-(nb_minute_restant_j/(7*60)),\"Avancée Journée\")"
   ]
  },
  {
   "cell_type": "code",
   "execution_count": 9,
   "metadata": {},
   "outputs": [
    {
     "name": "stdout",
     "output_type": "stream",
     "text": [
      "Il te reste 442 heures et 6 minutes avant la fin de ton stage\n",
      "Avancée Stage : 19.03% [███████████----------------------------------------] \n"
     ]
    }
   ],
   "source": [
    "nb_minute_restant = (nb_jour_restant-1)*7*60 + nb_minute_restant_j\n",
    "\n",
    "print(\"Il te reste {} heures et {} minutes avant la fin de ton stage\".format(nb_minute_restant//60,nb_minute_restant_j%60))\n",
    "p_stage = (1-(nb_minute_restant/ (nb_jour_tot*7*60) ))\n",
    "progressbar(p_stage,\"Avancée Stage\")\n",
    "#print(\"Tu as donc fait {} % de ton stage\".format(p_stage*100))"
   ]
  },
  {
   "cell_type": "markdown",
   "metadata": {},
   "source": [
    "Salaire"
   ]
  },
  {
   "cell_type": "code",
   "execution_count": 10,
   "metadata": {},
   "outputs": [
    {
     "name": "stdout",
     "output_type": "stream",
     "text": [
      "Tu as déjà touche 405.21 € depuis le début de ton stage\n"
     ]
    }
   ],
   "source": [
    "nb_minute_passe = nb_jour_tot*7*60 - nb_minute_restant\n",
    "salaire=nb_minute_passe/60 * taux_horaire\n",
    "print(\"Tu as déjà touche {} € depuis le début de ton stage\".format(round(salaire,2)))"
   ]
  },
  {
   "cell_type": "code",
   "execution_count": 11,
   "metadata": {},
   "outputs": [
    {
     "name": "stdout",
     "output_type": "stream",
     "text": [
      "Salaire inutile touché : 38.59€ sur le total espéré : 202.8 €\n"
     ]
    }
   ],
   "source": [
    "salaire_inutile = (nb_minute_passe/60 * nb_minute_inutile_j/(60*7)) *taux_horaire\n",
    "salaire_inutile_tot = taux_horaire*nb_jour_tot*nb_minute_inutile_j/60 \n",
    "print(\"Salaire inutile touché : {}€ sur le total espéré : {} €\".format(round(salaire_inutile,2),round(salaire_inutile_tot,2)))"
   ]
  },
  {
   "cell_type": "code",
   "execution_count": 12,
   "metadata": {},
   "outputs": [],
   "source": [
    "date_paye=date(year=today.year,month=today.month,day=1)\n",
    "date_paye += relativedelta(day=jour_paye)\n",
    "date_paye_next = date_paye + relativedelta(months=1)\n",
    "date_paye_last = date_paye + relativedelta(months=-1)"
   ]
  },
  {
   "cell_type": "code",
   "execution_count": 21,
   "metadata": {},
   "outputs": [
    {
     "name": "stdout",
     "output_type": "stream",
     "text": [
      "Ce mois, tu as gagné 23.01€\n"
     ]
    }
   ],
   "source": [
    "if (date_paye_last<start_date and date_paye>today):\n",
    "    #On est dans le premier mois de salaire\n",
    "    time_travail_mois =  today - start_date\n",
    "    salaire_mois = ((1+time_travail_mois.days-2*(start_date.weekday()+time_travail_mois.days)//7)*7 - nb_minute_restant_j/60 ) * taux_horaire\n",
    "    print (\"C'est ton premier moi, tu as gagné {}€\".format(round(salaire_mois,2)))\n",
    "elif(date_paye>today and today>date_paye_last):\n",
    "    #il attend sa paie dans ce mois\n",
    "    time_travail_mois =  today - date_paye_last\n",
    "    salaire_mois = ((1+time_travail_mois.days-2*(date_paye_last.weekday()+time_travail_mois.days)//7 )*7 - nb_minute_restant_j/60 ) * taux_horaire\n",
    "    print (\"Ce mois, tu as gagné {}€\".format(round(salaire_mois,2)))\n",
    "elif(date_paye<today):\n",
    "    #il a déjà reçu sa paie ce mois-ci\n",
    "    time_travail_mois =  today - date_paye\n",
    "    salaire_mois = ((1+time_travail_mois.days-2*(date_paye.weekday()+time_travail_mois.days)//7)*7 - nb_minute_restant_j/60 ) * taux_horaire\n",
    "    print (\"Ce mois, tu as gagné {}€\".format(round(salaire_mois,2)))\n",
    "\n",
    "elif (date_paye==today):\n",
    "    #on est le jour de paie\n",
    "    time_travail_mois =  today - date_paye_last\n",
    "    salaire_mois = ((1+time_travail_mois.days-2*(date_paye_last+time_travail_mois.days)//7 )*7) * taux_horaire\n",
    "    print (\"C'est jour de paie, tu as touché {}€\".format(round(salaire_mois,2)))\n",
    "else :\n",
    "    print(\"Erreur : Contactez le dev\")"
   ]
  },
  {
   "cell_type": "code",
   "execution_count": 14,
   "metadata": {},
   "outputs": [],
   "source": [
    "liste_motivation=[\n",
    "    \"Rien à foutre de ta dépression\",\n",
    "    \"Et ça fait bim, bam, boum, allez cheh comme ça tu l'as dans la tête pour la journée\",\n",
    "    \"C'est pas le monde des bisounours\",\n",
    "    \"Il y a vraiment plus de saisons\",\n",
    "    \"Dis-moi, t'as pris du muscle\",\n",
    "    \"Allez souris, ça va bien se passer\\nSouris j'ai dit, ça va sécréter de la dopamine, l'hormone du bonheur\",\n",
    "    \"T'imagines tu meurs avant la fin de ton stage, ce serait relou.\",\n",
    "    \"Dis-toi qu'à la fin du mois, t'auras un gros sala... ouais non en fait oublie.\",\n",
    "    \"Allez mon gars, je sais que c'est dur, comme du pain rassis\",\n",
    "    \"Tu veux arrêter c'est ça, tu crois que c'est simple la vie.\",\n",
    "    \"Je sais qui m'a codée mais il doit être vachement beau\",\n",
    "    \"T'sais que t'es beau (belle)!\",\n",
    "    \"Oulah, il y a une sale ambiance ici, y'a un enterrement?\",\n",
    "    \"\\\"C'est à moi que tu parles ? C'est à moi que tu parles ? On m'appelle MONSIEUR Porc\\\" Pumba, Le Roi Lion\",\n",
    "    \"\\\"Yo la carpette, je t'ai pas vu depuis des mille et des cents ! Serre-moi donc le pompom !\\\" Le Génie dans Aladdin\",\n",
    "    \"T'as essayé la crypto ?\",\n",
    "    \"Aussinon je peux te passer un site très utile : \\nhttps://www.pole-emploi.fr/accueil/\",\n",
    "    \"Ce serait pas cool d'être un chat, pépère ?\",\n",
    "    \"\\\"Il n'est pas de punition plus terrible que le travail inutile et sans espoir\\\" Albert Camus\",\n",
    "    \"Arrête de te plaindre, moi à ton âge, j'avais une orange à Noël\",\n",
    "    \"Il ne suffit pas de ressembler à Cetelem pour faire du Cetelem\",\n",
    "    \"\\\"Je m'ennuie à mourir. L'ennui, c'est que je n'en meurs pas.\\\" Marise Arnaud\",\n",
    "    \"Pense à une piscine, un petit coktail, le chant des oiseaux et des cigales. Voilà détendu ? Maintenant retourne au boulot feignasse, les vacances c'est pas pour toute suite.\",\n",
    "    \"Le travail c'est comme le chocolat... à toi de finir, je vais pas faire tout le boulot\"\n",
    "]"
   ]
  },
  {
   "cell_type": "markdown",
   "metadata": {},
   "source": [
    "Loading"
   ]
  },
  {
   "cell_type": "code",
   "execution_count": 15,
   "metadata": {},
   "outputs": [
    {
     "ename": "NameError",
     "evalue": "name 'trange' is not defined",
     "output_type": "error",
     "traceback": [
      "\u001b[1;31m---------------------------------------------------------------------------\u001b[0m",
      "\u001b[1;31mNameError\u001b[0m                                 Traceback (most recent call last)",
      "\u001b[1;32mc:\\Users\\djiko\\Desktop\\Stage\\Untitled-1.ipynb Cell 22'\u001b[0m in \u001b[0;36m<cell line: 1>\u001b[1;34m()\u001b[0m\n\u001b[1;32m----> <a href='vscode-notebook-cell:/c%3A/Users/djiko/Desktop/Stage/Untitled-1.ipynb#ch0000021?line=0'>1</a>\u001b[0m \u001b[39mfor\u001b[39;00m i \u001b[39min\u001b[39;00m trange(time_interval\u001b[39m.\u001b[39mseconds):\n\u001b[0;32m      <a href='vscode-notebook-cell:/c%3A/Users/djiko/Desktop/Stage/Untitled-1.ipynb#ch0000021?line=1'>2</a>\u001b[0m     \u001b[39mif\u001b[39;00m(i\u001b[39m>\u001b[39m(time_interval\u001b[39m.\u001b[39mseconds\u001b[39m-\u001b[39mnb_minute_restant_j\u001b[39m*\u001b[39m\u001b[39m60\u001b[39m)):\n\u001b[0;32m      <a href='vscode-notebook-cell:/c%3A/Users/djiko/Desktop/Stage/Untitled-1.ipynb#ch0000021?line=2'>3</a>\u001b[0m         sleep(\u001b[39m1\u001b[39m)\n",
      "\u001b[1;31mNameError\u001b[0m: name 'trange' is not defined"
     ]
    }
   ],
   "source": [
    "for i in trange(time_interval.seconds):\n",
    "    if(i>(time_interval.seconds-nb_minute_restant_j*60)):\n",
    "        sleep(1)\n",
    "       "
   ]
  }
 ],
 "metadata": {
  "interpreter": {
   "hash": "d8a59eeeac78d5cda7a5b337fd7e3f31d8807acc12d9bfd1d23e87b1fa788673"
  },
  "kernelspec": {
   "display_name": "Python 3.10.4 64-bit",
   "language": "python",
   "name": "python3"
  },
  "language_info": {
   "codemirror_mode": {
    "name": "ipython",
    "version": 3
   },
   "file_extension": ".py",
   "mimetype": "text/x-python",
   "name": "python",
   "nbconvert_exporter": "python",
   "pygments_lexer": "ipython3",
   "version": "3.10.4"
  },
  "orig_nbformat": 4,
  "vscode": {
   "interpreter": {
    "hash": "6d1e45cadc3597bb8b6600530fbdf8c3eefe919a24ef54d9d32b318795b772e0"
   }
  }
 },
 "nbformat": 4,
 "nbformat_minor": 2
}
